{
 "cells": [
  {
   "cell_type": "markdown",
   "id": "e6c2fa2f",
   "metadata": {},
   "source": [
    "# Optimize Agriculture Production Project"
   ]
  },
  {
   "cell_type": "markdown",
   "id": "3405d64a",
   "metadata": {},
   "source": [
    "In this project I Design a model which predict suitable crops at different Soil Ingredients, Temperature. Humidity, PH value and Rainfall.\n"
   ]
  },
  {
   "cell_type": "code",
   "execution_count": 9,
   "id": "b84e096c",
   "metadata": {},
   "outputs": [],
   "source": [
    "# for data manupulation\n",
    "import numpy as np\n",
    "import pandas as pd\n",
    "\n",
    "# for data visualization\n",
    "import matplotlib.pyplot as plt\n",
    "import seaborn as sns\n",
    "\n",
    "# for interactivity\n",
    "from ipywidgets import interact"
   ]
  },
  {
   "cell_type": "code",
   "execution_count": 10,
   "id": "db79a4ea",
   "metadata": {},
   "outputs": [],
   "source": [
    "#lets read the dataset\n",
    "data = pd.read_csv('Crop_recommendation.csv')"
   ]
  },
  {
   "cell_type": "code",
   "execution_count": 11,
   "id": "c178b9e0",
   "metadata": {},
   "outputs": [
    {
     "name": "stdout",
     "output_type": "stream",
     "text": [
      "Shape of the Dataset : (2200, 8)\n"
     ]
    }
   ],
   "source": [
    "#Lets check the shape of the dataset\n",
    "print(\"Shape of the Dataset :\", data.shape)"
   ]
  },
  {
   "cell_type": "code",
   "execution_count": 12,
   "id": "9b2fef6b",
   "metadata": {},
   "outputs": [
    {
     "data": {
      "text/html": [
       "<div>\n",
       "<style scoped>\n",
       "    .dataframe tbody tr th:only-of-type {\n",
       "        vertical-align: middle;\n",
       "    }\n",
       "\n",
       "    .dataframe tbody tr th {\n",
       "        vertical-align: top;\n",
       "    }\n",
       "\n",
       "    .dataframe thead th {\n",
       "        text-align: right;\n",
       "    }\n",
       "</style>\n",
       "<table border=\"1\" class=\"dataframe\">\n",
       "  <thead>\n",
       "    <tr style=\"text-align: right;\">\n",
       "      <th></th>\n",
       "      <th>N</th>\n",
       "      <th>P</th>\n",
       "      <th>K</th>\n",
       "      <th>temperature</th>\n",
       "      <th>humidity</th>\n",
       "      <th>ph</th>\n",
       "      <th>rainfall</th>\n",
       "      <th>label</th>\n",
       "    </tr>\n",
       "  </thead>\n",
       "  <tbody>\n",
       "    <tr>\n",
       "      <th>0</th>\n",
       "      <td>90</td>\n",
       "      <td>42</td>\n",
       "      <td>43</td>\n",
       "      <td>20.879744</td>\n",
       "      <td>82.002744</td>\n",
       "      <td>6.502985</td>\n",
       "      <td>202.935536</td>\n",
       "      <td>rice</td>\n",
       "    </tr>\n",
       "    <tr>\n",
       "      <th>1</th>\n",
       "      <td>85</td>\n",
       "      <td>58</td>\n",
       "      <td>41</td>\n",
       "      <td>21.770462</td>\n",
       "      <td>80.319644</td>\n",
       "      <td>7.038096</td>\n",
       "      <td>226.655537</td>\n",
       "      <td>rice</td>\n",
       "    </tr>\n",
       "    <tr>\n",
       "      <th>2</th>\n",
       "      <td>60</td>\n",
       "      <td>55</td>\n",
       "      <td>44</td>\n",
       "      <td>23.004459</td>\n",
       "      <td>82.320763</td>\n",
       "      <td>7.840207</td>\n",
       "      <td>263.964248</td>\n",
       "      <td>rice</td>\n",
       "    </tr>\n",
       "    <tr>\n",
       "      <th>3</th>\n",
       "      <td>74</td>\n",
       "      <td>35</td>\n",
       "      <td>40</td>\n",
       "      <td>26.491096</td>\n",
       "      <td>80.158363</td>\n",
       "      <td>6.980401</td>\n",
       "      <td>242.864034</td>\n",
       "      <td>rice</td>\n",
       "    </tr>\n",
       "    <tr>\n",
       "      <th>4</th>\n",
       "      <td>78</td>\n",
       "      <td>42</td>\n",
       "      <td>42</td>\n",
       "      <td>20.130175</td>\n",
       "      <td>81.604873</td>\n",
       "      <td>7.628473</td>\n",
       "      <td>262.717340</td>\n",
       "      <td>rice</td>\n",
       "    </tr>\n",
       "  </tbody>\n",
       "</table>\n",
       "</div>"
      ],
      "text/plain": [
       "    N   P   K  temperature   humidity        ph    rainfall label\n",
       "0  90  42  43    20.879744  82.002744  6.502985  202.935536  rice\n",
       "1  85  58  41    21.770462  80.319644  7.038096  226.655537  rice\n",
       "2  60  55  44    23.004459  82.320763  7.840207  263.964248  rice\n",
       "3  74  35  40    26.491096  80.158363  6.980401  242.864034  rice\n",
       "4  78  42  42    20.130175  81.604873  7.628473  262.717340  rice"
      ]
     },
     "execution_count": 12,
     "metadata": {},
     "output_type": "execute_result"
    }
   ],
   "source": [
    "# lets check the head of the dataset\n",
    "data.head()"
   ]
  },
  {
   "cell_type": "code",
   "execution_count": 14,
   "id": "1e299bbf",
   "metadata": {},
   "outputs": [
    {
     "data": {
      "text/plain": [
       "N              0\n",
       "P              0\n",
       "K              0\n",
       "temperature    0\n",
       "humidity       0\n",
       "ph             0\n",
       "rainfall       0\n",
       "label          0\n",
       "dtype: int64"
      ]
     },
     "execution_count": 14,
     "metadata": {},
     "output_type": "execute_result"
    }
   ],
   "source": [
    "# check the if there is any missing values presnt in the dataset\n",
    "data.isnull().sum()"
   ]
  },
  {
   "cell_type": "code",
   "execution_count": 15,
   "id": "6a3b9084",
   "metadata": {},
   "outputs": [
    {
     "data": {
      "text/plain": [
       "rice           100\n",
       "maize          100\n",
       "jute           100\n",
       "cotton         100\n",
       "coconut        100\n",
       "papaya         100\n",
       "orange         100\n",
       "apple          100\n",
       "muskmelon      100\n",
       "watermelon     100\n",
       "grapes         100\n",
       "mango          100\n",
       "banana         100\n",
       "pomegranate    100\n",
       "lentil         100\n",
       "blackgram      100\n",
       "mungbean       100\n",
       "mothbeans      100\n",
       "pigeonpeas     100\n",
       "kidneybeans    100\n",
       "chickpea       100\n",
       "coffee         100\n",
       "Name: label, dtype: int64"
      ]
     },
     "execution_count": 15,
     "metadata": {},
     "output_type": "execute_result"
    }
   ],
   "source": [
    "# lets check the crops present in this Dataset\n",
    "data['label'].value_counts()\n"
   ]
  },
  {
   "cell_type": "code",
   "execution_count": 18,
   "id": "fa86e5df",
   "metadata": {},
   "outputs": [
    {
     "name": "stdout",
     "output_type": "stream",
     "text": [
      "Average Ratio of Nitrogen in the soil :  50.55\n",
      "Average Ratio of Phhosphorus in the Soil :  53.36\n",
      "Average Ratio of Potassium in the Soil :  48.15\n",
      "Average Tempature in Celsius :  25.62\n",
      "Average Relative Humidity in %  :  71.48\n",
      "Average Ph value of the Soil :  6.47\n",
      "Average Rainfall in mm :  103.46\n"
     ]
    }
   ],
   "source": [
    "# lets check the summary for all the crops\n",
    "print(\"Average Ratio of Nitrogen in the soil : {0: .2f}\".format(data['N'].mean()))\n",
    "print(\"Average Ratio of Phhosphorus in the Soil : {0: .2f}\".format(data['P'].mean()))\n",
    "print(\"Average Ratio of Potassium in the Soil : {0: .2f}\".format(data['K'].mean()))\n",
    "print(\"Average Tempature in Celsius : {0: .2f}\".format(data['temperature'].mean()))\n",
    "print(\"Average Relative Humidity in %  : {0: .2f}\".format(data['humidity'].mean()))\n",
    "print(\"Average Ph value of the Soil : {0: .2f}\".format(data['ph'].mean()))\n",
    "print(\"Average Rainfall in mm : {0: .2f}\".format(data['rainfall'].mean()))"
   ]
  },
  {
   "cell_type": "code",
   "execution_count": 20,
   "id": "2f567a72",
   "metadata": {},
   "outputs": [
    {
     "data": {
      "application/vnd.jupyter.widget-view+json": {
       "model_id": "cbac7a494bb74d0089f52876e3938bb7",
       "version_major": 2,
       "version_minor": 0
      },
      "text/plain": [
       "interactive(children=(Dropdown(description='crops', options=('rice', 'maize', 'jute', 'cotton', 'coconut', 'pa…"
      ]
     },
     "metadata": {},
     "output_type": "display_data"
    }
   ],
   "source": [
    "# lets check the summary statistics for each of the crops \n",
    "@interact\n",
    "def summary(crops=list(data['label'].value_counts().index)):\n",
    "    x=data[data['label']==crops]\n",
    "    print(\"-------------------------------------------------------\")\n",
    "    print(\"Statistics for Nitrogen\")\n",
    "    print(\"Minimum Nitrogen required :\",x['N'].min())\n",
    "    print(\"Average Nitrogen required :\",x['N'].mean())\n",
    "    print(\"Maximum Nitrogen required :\",x['N'].max())\n",
    "    print(\"-------------------------------------------------------\")\n",
    "    print(\"Statistics for  Phosphorus\")\n",
    "    print(\"Minimum  Phosphorus required :\",x['P'].min())\n",
    "    print(\"Average Phosphorusrequired :\", x['P'].mean())\n",
    "    print(\"Maximum Phosphorus required :\",x['P'].max())\n",
    "    print(\"-------------------------------------------------------\")\n",
    "    print(\"Statistics for  Potassium\")\n",
    "    print(\"Minimum  Potassium required :\", x['K'].min())\n",
    "    print(\"Average Potassium required :\", x['K'].mean())\n",
    "    print(\"Maximum Potassium required :\", x['K'].max())\n",
    "    print(\"-------------------------------------------------------\")\n",
    "    print(\"Statistics for  Temperature\")\n",
    "    print(\"Minimum  Potassium required : {0: .2f}\".format(x['temperature'].min()))\n",
    "    print(\"Average Potassium required : {0: .2f}\".format(x['temperature'].mean()))\n",
    "    print(\"Maximum Potassium required : {0: .2f}\".format(x['temperature'].max()))\n",
    "    print(\"-------------------------------------------------------\")\n",
    "    print(\"Statistics for  Humidity\")\n",
    "    print(\"Minimum Humidityrequired : {0: .2f}\".format(x['humidity'].min()))\n",
    "    print(\"Average Humidity required : {0: .2f}\".format(x['humidity'].mean()))\n",
    "    print(\"Maximum Humidity required : {0: .2f}\".format(x['humidity'].max()))\n",
    "    print(\"-------------------------------------------------------\")\n",
    "    print(\"Statistics for  PH\")\n",
    "    print(\"Minimum PH required : {0: .2f}\".format(x['ph'].min()))\n",
    "    print(\"Average PH required : {0: .2f}\".format(x['ph'].mean()))\n",
    "    print(\"Maximum PH required : {0: .2f}\".format(x['ph'].max()))\n",
    "    print(\"-------------------------------------------------------\")\n",
    "    print(\"Statistics for  Rainfall\")\n",
    "    print(\"Minimum Rainfall required : {0: .2f}\".format(x['rainfall'].min()))\n",
    "    print(\"Average Rainfall required : {0: .2f}\".format(x['rainfall'].mean()))\n",
    "    print(\"Maximum Rainfall required : {0: .2f}\".format(x['rainfall'].max()))\n",
    "     "
   ]
  },
  {
   "cell_type": "code",
   "execution_count": null,
   "id": "395e801c",
   "metadata": {},
   "outputs": [],
   "source": []
  },
  {
   "cell_type": "code",
   "execution_count": 21,
   "id": "b8013959",
   "metadata": {},
   "outputs": [
    {
     "data": {
      "application/vnd.jupyter.widget-view+json": {
       "model_id": "23eb63accd4e4ef8a6b4c26cc5bd699a",
       "version_major": 2,
       "version_minor": 0
      },
      "text/plain": [
       "interactive(children=(Dropdown(description='conditions', options=('N', 'P', 'K', 'temperature', 'ph', 'humidit…"
      ]
     },
     "metadata": {},
     "output_type": "display_data"
    }
   ],
   "source": [
    "@interact\n",
    "def compare(conditions = ['N','P','K','temperature','ph','humidity','rainfall']):\n",
    "    print(\"Average Value for\", conditions, \"is {0:.2f}\".format(data[conditions].mean()))\n",
    "    print(\"------------------------------------------------\")\n",
    "    print(\"Rice : {0:2f}\".format(data[(data['label']=='rice')][conditions].mean()))\n",
    "    print(\"Black Grams : {0:2f}\".format(data[(data['label']=='blackgram')][conditions].mean()))\n",
    "    print(\"Banana : {0:2f}\".format(data[(data['label']=='banana')][conditions].mean()))\n",
    "    print(\"Jute : {0:2f}\".format(data[(data['label']=='jute')][conditions].mean()))\n",
    "    print(\"Coconut : {0:2f}\".format(data[(data['label']=='coconut')][conditions].mean()))\n",
    "    print(\"Apple : {0:2f}\".format(data[(data['label']=='apple')][conditions].mean()))\n",
    "    print(\"Papaya : {0:2f}\".format(data[(data['label']=='papaya')][conditions].mean()))\n",
    "    print(\"Muskmelon : {0:2f}\".format(data[(data['label']=='muskmelon')][conditions].mean()))\n",
    "    print(\"Grapes : {0:2f}\".format(data[(data['label']=='grapes')][conditions].mean()))\n",
    "    print(\"Watermelon : {0:2f}\".format(data[(data['label']=='watermelon')][conditions].mean()))\n",
    "    print(\"Kidney Beans : {0:2f}\".format(data[(data['label']=='kidneybeans')][conditions].mean()))\n",
    "    print(\"Mung Beans : {0:2f}\".format(data[(data['label']=='mungbeans')][conditions].mean()))\n",
    "    print(\"Oranges : {0:2f}\".format(data[(data['label']=='oranges')][conditions].mean()))\n",
    "    print(\"Chick Peas : {0:2f}\".format(data[(data['label']=='chickpea')][conditions].mean()))\n",
    "    print(\"Lentis : {0:2f}\".format(data[(data['label']=='lentil')][conditions].mean()))\n",
    "    print(\"Cotton : {0:2f}\".format(data[(data['label']=='cotton')][conditions].mean()))\n",
    "    print(\"Maize : {0:2f}\".format(data[(data['label']=='maize')][conditions].mean()))\n",
    "    print(\"Moth Beans : {0:2f}\".format(data[(data['label']=='mothbeans')][conditions].mean()))\n",
    "    print(\"Pigeon Peas : {0:2f}\".format(data[(data['label']=='pigeonpeas')][conditions].mean()))\n",
    "    print(\"Mango : {0:2f}\".format(data[(data['label']=='mango')][conditions].mean()))\n",
    "    print(\"Pomegranate : {0:2f}\".format(data[(data['label']=='pomegranate')][conditions].mean()))\n",
    "    print(\"Coffee : {0:2f}\".format(data[(data['label']=='coffee')][conditions].mean()))"
   ]
  },
  {
   "cell_type": "code",
   "execution_count": 25,
   "id": "b72975c2",
   "metadata": {},
   "outputs": [
    {
     "data": {
      "application/vnd.jupyter.widget-view+json": {
       "model_id": "0dd11ff926f94cb9b912f30547bdb7ae",
       "version_major": 2,
       "version_minor": 0
      },
      "text/plain": [
       "interactive(children=(Dropdown(description='conditions', options=('N', 'P', 'K', 'temperature', 'ph', 'humidit…"
      ]
     },
     "metadata": {},
     "output_type": "display_data"
    }
   ],
   "source": [
    "# lets make this function more intutive\n",
    "@interact\n",
    "def compare(conditions = ['N', 'P', 'K', 'temperature', 'ph', 'humidity', 'rainfall']):\n",
    "    print(\"Crops which require greater than average\", conditions,'\\n')\n",
    "    print(data[data[conditions]>data[conditions].mean()]['label'].unique())\n",
    "    print(\"-----------------------------------------------\")\n",
    "    print(\"Crops which require less than average\", conditions,'\\n')\n",
    "    print(data[data[conditions]<=data[conditions].mean()]['label'].unique())"
   ]
  },
  {
   "cell_type": "code",
   "execution_count": 81,
   "id": "a559a299",
   "metadata": {},
   "outputs": [
    {
     "ename": "AttributeError",
     "evalue": "module 'matplotlib.pyplot' has no attribute 'support'",
     "output_type": "error",
     "traceback": [
      "\u001b[1;31m---------------------------------------------------------------------------\u001b[0m",
      "\u001b[1;31mAttributeError\u001b[0m                            Traceback (most recent call last)",
      "\u001b[1;32m~\\AppData\\Local\\Temp\\ipykernel_9320\\2018678195.py\u001b[0m in \u001b[0;36m<module>\u001b[1;34m\u001b[0m\n\u001b[1;32m----> 1\u001b[1;33m \u001b[0mplt\u001b[0m\u001b[1;33m.\u001b[0m\u001b[0msupport\u001b[0m\u001b[1;33m(\u001b[0m\u001b[1;36m2\u001b[0m\u001b[1;33m,\u001b[0m\u001b[1;36m4\u001b[0m\u001b[1;33m,\u001b[0m\u001b[1;36m1\u001b[0m\u001b[1;33m)\u001b[0m\u001b[1;33m\u001b[0m\u001b[1;33m\u001b[0m\u001b[0m\n\u001b[0m\u001b[0;32m      2\u001b[0m \u001b[0msns\u001b[0m\u001b[1;33m.\u001b[0m\u001b[0mdistplot\u001b[0m\u001b[1;33m(\u001b[0m\u001b[0mdata\u001b[0m\u001b[1;33m[\u001b[0m\u001b[1;34m'N'\u001b[0m\u001b[1;33m]\u001b[0m\u001b[1;33m,\u001b[0m \u001b[0mcolor\u001b[0m\u001b[1;33m=\u001b[0m\u001b[1;34m'darkblue'\u001b[0m\u001b[1;33m)\u001b[0m\u001b[1;33m\u001b[0m\u001b[1;33m\u001b[0m\u001b[0m\n\u001b[0;32m      3\u001b[0m \u001b[0mplt\u001b[0m\u001b[1;33m.\u001b[0m\u001b[0mxlabel\u001b[0m\u001b[1;33m(\u001b[0m\u001b[1;34m'Ratio of Nitrogen'\u001b[0m\u001b[1;33m,\u001b[0m \u001b[0mfontsize\u001b[0m\u001b[1;33m=\u001b[0m\u001b[1;36m12\u001b[0m\u001b[1;33m)\u001b[0m\u001b[1;33m\u001b[0m\u001b[1;33m\u001b[0m\u001b[0m\n\u001b[0;32m      4\u001b[0m \u001b[0mplt\u001b[0m\u001b[1;33m.\u001b[0m\u001b[0mgrid\u001b[0m\u001b[1;33m\u001b[0m\u001b[1;33m\u001b[0m\u001b[0m\n\u001b[0;32m      5\u001b[0m \u001b[1;33m\u001b[0m\u001b[0m\n",
      "\u001b[1;31mAttributeError\u001b[0m: module 'matplotlib.pyplot' has no attribute 'support'"
     ]
    }
   ],
   "source": [
    "\n",
    "plt.support(2,4,1)\n",
    "sns.distplot(data['N'], color='darkblue')\n",
    "plt.xlabel('Ratio of Nitrogen', fontsize=12)\n",
    "plt.grid\n",
    "\n",
    "plt.support(2,4,2)\n",
    "sns.distplot(data['P'], color='darkblue')\n",
    "plt.xlabel('Ratio of Phosphorus', fontsize=12)\n",
    "plt.grid\n",
    "\n",
    "plt.support(2,4,3)\n",
    "sns.distplot(data['k'], color='darkblue')\n",
    "plt.xlabel('Ratio of Potassium', fontsize=12)\n",
    "plt.grid\n",
    "\n",
    "plt.support(2,4,4)\n",
    "sns.distplot(data['temperature'], color='black')\n",
    "plt.xlabel('Temperature', fontsize=12)\n",
    "plt.grid\n",
    "\n",
    "plt.support(2,4,5)\n",
    "sns.distplot(data['rainfall'], color='grey')\n",
    "plt.xlabel('Rainfall', fontsize=12)\n",
    "plt.grid\n",
    "\n",
    "plt.support(2,4,6)\n",
    "sns.distplot(data['humidity'], color='lightgreen')\n",
    "plt.xlabel('Humidity', fontsize=12)\n",
    "plt.grid\n",
    "\n",
    "plt.support(2,4,7)\n",
    "sns.distplot(data['ph'], color='darkgreen')\n",
    "plt.xlabel('Ph level', fontsize=12)\n",
    "plt.grid\n",
    "\n",
    "plt.suptitle('Distribution for Agricultural Conditions', fontsize=20)\n",
    "plt.show()"
   ]
  },
  {
   "cell_type": "code",
   "execution_count": 35,
   "id": "12cbf944",
   "metadata": {},
   "outputs": [
    {
     "name": "stdout",
     "output_type": "stream",
     "text": [
      "Some Interesting Patterns\n",
      "-----------------------------------\n",
      "Crops which requires very high Ratio of Nitrogen Content in soil. ['cotton']\n",
      "Crops which requires very high Ratio of Phosphorus Content in soil. ['grapes' 'apple']\n",
      "Crops which requires very high Ratio of Potassium Content in soil. ['grapes' 'apple']\n",
      "Crops which requires very high Rainfall. ['rice' 'papaya' 'coconut']\n",
      "Crops which requires very low temperature. ['grapes']\n",
      "Crops which requires very high temperature. ['grapes' 'papaya']\n",
      "Crops which requires very low humidity. ['chickpea' 'kidneybeans']\n",
      "Crops which requires very low ph. ['mothbeans']\n",
      "Crops which requires very high ph. ['mothbeans']\n"
     ]
    }
   ],
   "source": [
    "# lets find out some Interesting Facts\n",
    "print(\"Some Interesting Patterns\")\n",
    "print(\"-----------------------------------\")\n",
    "print(\"Crops which requires very high Ratio of Nitrogen Content in soil.\", data[data['N']>120]['label'].unique())\n",
    "print(\"Crops which requires very high Ratio of Phosphorus Content in soil.\", data[data['P']>100]['label'].unique())\n",
    "print(\"Crops which requires very high Ratio of Potassium Content in soil.\", data[data['K']>200]['label'].unique())\n",
    "print(\"Crops which requires very high Rainfall.\", data[data['rainfall']>200]['label'].unique())\n",
    "print(\"Crops which requires very low temperature.\", data[data['temperature']<10]['label'].unique())\n",
    "print(\"Crops which requires very high temperature.\", data[data['temperature']>40]['label'].unique())\n",
    "print(\"Crops which requires very low humidity.\", data[data['humidity']<20]['label'].unique())\n",
    "print(\"Crops which requires very low ph.\", data[data['ph']<4]['label'].unique())\n",
    "print(\"Crops which requires very high ph.\", data[data['ph']>9]['label'].unique())\n",
    "     \n",
    "     \n",
    "     \n"
   ]
  },
  {
   "cell_type": "code",
   "execution_count": 41,
   "id": "2a38622b",
   "metadata": {},
   "outputs": [
    {
     "name": "stdout",
     "output_type": "stream",
     "text": [
      "Summer Crops\n",
      "['pigeonpeas' 'mothbeans' 'blackgram' 'mango' 'grapes' 'orange' 'papaya']\n",
      "--------------------------------------\n",
      "Winter Crops\n",
      "['maize' 'pigeonpeas' 'lentil' 'pomegranate' 'grapes' 'orange']\n",
      "--------------------------------------\n",
      "Rains Crops\n",
      "['rice' 'papaya' 'coconut']\n"
     ]
    }
   ],
   "source": [
    "# lets understand which crops can only be Grown in summer season, winter season and rainy season\n",
    "print(\"Summer Crops\")\n",
    "print(data[(data['temperature']>30) & (data['humidity']>50)]['label'].unique())\n",
    "print(\"--------------------------------------\")\n",
    "print(\"Winter Crops\")\n",
    "print(data[(data['temperature']<20) & (data['humidity']>30)]['label'].unique())\n",
    "print(\"--------------------------------------\")\n",
    "print(\"Rains Crops\")\n",
    "print(data[(data['rainfall']>200) & (data['humidity']>30)]['label'].unique())\n",
    "\n"
   ]
  },
  {
   "cell_type": "code",
   "execution_count": 45,
   "id": "5ba47f8e",
   "metadata": {},
   "outputs": [
    {
     "name": "stdout",
     "output_type": "stream",
     "text": [
      "(2200, 7)\n"
     ]
    }
   ],
   "source": [
    "from sklearn.cluster import KMeans\n",
    "# removing the labels column\n",
    "x=data.drop(['label'], axis=1)\n",
    "\n",
    "# selecting all the values of the data\n",
    "x=x.values\n",
    "\n",
    "# checking the shapes\n",
    "print(x.shape)"
   ]
  },
  {
   "cell_type": "code",
   "execution_count": 46,
   "id": "352886df",
   "metadata": {},
   "outputs": [
    {
     "name": "stderr",
     "output_type": "stream",
     "text": [
      "C:\\ProgramData\\Anaconda3\\lib\\site-packages\\sklearn\\cluster\\_kmeans.py:1036: UserWarning: KMeans is known to have a memory leak on Windows with MKL, when there are less chunks than available threads. You can avoid it by setting the environment variable OMP_NUM_THREADS=9.\n",
      "  warnings.warn(\n"
     ]
    },
    {
     "data": {
      "image/png": "[encoded data removed]",
      "text/plain": [
       "<Figure size 1000x400 with 1 Axes>"
      ]
     },
     "metadata": {},
     "output_type": "display_data"
    }
   ],
   "source": [
    "# lets determines the oprimum number of clusters within the dataset\n",
    "plt.rcParams['figure.figsize']=(10, 4)\n",
    "\n",
    "wcss=[]\n",
    "for i in range(1, 11):\n",
    "    km=KMeans(n_clusters=i, init='k-means++', max_iter=300, n_init=10, random_state=0)\n",
    "    km.fit(x)\n",
    "    wcss.append(km.inertia_)\n",
    "    \n",
    " # lets plot the results\n",
    "plt.plot(range(1, 11), wcss)\n",
    "plt.title('The Elbow Method', fontsize=20)\n",
    "plt.xlabel('No. of Clusters')\n",
    "plt.show()\n",
    "    "
   ]
  },
  {
   "cell_type": "code",
   "execution_count": 56,
   "id": "41d98ea1",
   "metadata": {},
   "outputs": [
    {
     "name": "stdout",
     "output_type": "stream",
     "text": [
      "lets check the results after applying the k Means clustering analysis \n",
      "\n",
      "Crops in first cluster: ['maize' 'chickpea' 'kidneybeans' 'pigeonpeas' 'mothbeans' 'mungbean'\n",
      " 'blackgram' 'lentil' 'pomegranate' 'mango' 'orange' 'papaya' 'coconut']\n",
      "----------------------------------------------------------------\n",
      "Crops in Second cluster: ['maize' 'banana' 'watermelon' 'muskmelon' 'papaya' 'cotton' 'coffee']\n",
      "----------------------------------------------------------------\n",
      "Crops in Third cluster: ['grapes' 'apple']\n",
      "----------------------------------------------------------------\n",
      "Crops in fourth cluster: ['rice' 'pigeonpeas' 'papaya' 'coconut' 'jute' 'coffee']\n"
     ]
    }
   ],
   "source": [
    "# lets implement the k means algo to perform clustering analysis\n",
    "km=KMeans(n_clusters = 4, init = 'k-means++', max_iter=300, n_init=10, random_state=0 )\n",
    "y_means=km.fit_predict(x)\n",
    "\n",
    "# lets find out results\n",
    "a=data['label']\n",
    "y_means=pd.DataFrame(y_means)\n",
    "z=pd.concat([y_means, a], axis=1)\n",
    "z=z.rename(columns={0: 'cluster'})\n",
    "\n",
    "# lets check the clusters of each crops\n",
    "print(\"lets check the results after applying the k Means clustering analysis \\n\")\n",
    "print(\"Crops in first cluster:\", z[z['cluster']==0]['label'].unique())\n",
    "print(\"----------------------------------------------------------------\")\n",
    "print(\"Crops in Second cluster:\", z[z['cluster']==1]['label'].unique())\n",
    "print(\"----------------------------------------------------------------\")\n",
    "print(\"Crops in Third cluster:\", z[z['cluster']==2]['label'].unique())\n",
    "print(\"----------------------------------------------------------------\")\n",
    "print(\"Crops in fourth cluster:\", z[z['cluster']==3]['label'].unique())"
   ]
  },
  {
   "cell_type": "code",
   "execution_count": 57,
   "id": "f2b9c89f",
   "metadata": {},
   "outputs": [
    {
     "name": "stdout",
     "output_type": "stream",
     "text": [
      "Shape of x: (2200, 7)\n",
      "Shape of y: (2200,)\n"
     ]
    }
   ],
   "source": [
    "# split the dataset for predictive modeling\n",
    "y=data['label']\n",
    "x=data.drop(['label'], axis=1)\n",
    "\n",
    "print(\"Shape of x:\", x.shape)\n",
    "print(\"Shape of y:\", y.shape)"
   ]
  },
  {
   "cell_type": "code",
   "execution_count": 63,
   "id": "079e4e38",
   "metadata": {},
   "outputs": [
    {
     "name": "stdout",
     "output_type": "stream",
     "text": [
      "The Shape of x train (1760, 7)\n",
      "The Shape of x test (440, 7)\n",
      "The Shape of y train (1760,)\n",
      "The Shape of y train (440,)\n"
     ]
    }
   ],
   "source": [
    "# lets create training and testing sets for validation of resilts\n",
    "from sklearn.model_selection import train_test_split\n",
    "\n",
    "x_train, x_test, y_train, y_test=train_test_split(x, y, test_size=0.2, random_state=0)\n",
    "\n",
    "print(\"The Shape of x train\", x_train.shape)\n",
    "print(\"The Shape of x test\", x_test.shape)\n",
    "print(\"The Shape of y train\", y_train.shape)\n",
    "print(\"The Shape of y train\", y_test.shape)"
   ]
  },
  {
   "cell_type": "code",
   "execution_count": 65,
   "id": "9fa73423",
   "metadata": {},
   "outputs": [
    {
     "name": "stderr",
     "output_type": "stream",
     "text": [
      "C:\\ProgramData\\Anaconda3\\lib\\site-packages\\sklearn\\linear_model\\_logistic.py:814: ConvergenceWarning: lbfgs failed to converge (status=1):\n",
      "STOP: TOTAL NO. of ITERATIONS REACHED LIMIT.\n",
      "\n",
      "Increase the number of iterations (max_iter) or scale the data as shown in:\n",
      "    https://scikit-learn.org/stable/modules/preprocessing.html\n",
      "Please also refer to the documentation for alternative solver options:\n",
      "    https://scikit-learn.org/stable/modules/linear_model.html#logistic-regression\n",
      "  n_iter_i = _check_optimize_result(\n"
     ]
    }
   ],
   "source": [
    "# lets create a predictive model\n",
    "from sklearn.linear_model import LogisticRegression\n",
    "\n",
    "model=LogisticRegression()\n",
    "model.fit(x_train, y_train)\n",
    "y_pred=model.predict(x_test)"
   ]
  },
  {
   "cell_type": "code",
   "execution_count": 67,
   "id": "564a26d8",
   "metadata": {},
   "outputs": [
    {
     "data": {
      "image/png": "[encoded data removed]",
      "text/plain": [
       "<Figure size 1000x1000 with 2 Axes>"
      ]
     },
     "metadata": {},
     "output_type": "display_data"
    }
   ],
   "source": [
    "# lets evoluate the model lperformance\n",
    "from sklearn.metrics import confusion_matrix\n",
    "\n",
    "# lets print the confusion matrix first\n",
    "plt.rcParams['figure.figsize']=(10, 10)\n",
    "cm=confusion_matrix(y_test, y_pred)\n",
    "sns.heatmap(cm, annot = True, cmap='Wistia')\n",
    "plt.title('confusion matrix for logistic regression', fontsize=15)\n",
    "plt.show()"
   ]
  },
  {
   "cell_type": "code",
   "execution_count": 84,
   "id": "3bc7ab3a",
   "metadata": {},
   "outputs": [
    {
     "ename": "NameError",
     "evalue": "name 'classification_report' is not defined",
     "output_type": "error",
     "traceback": [
      "\u001b[1;31m---------------------------------------------------------------------------\u001b[0m",
      "\u001b[1;31mNameError\u001b[0m                                 Traceback (most recent call last)",
      "\u001b[1;32m~\\AppData\\Local\\Temp\\ipykernel_9320\\2924862640.py\u001b[0m in \u001b[0;36m<module>\u001b[1;34m\u001b[0m\n\u001b[0;32m      1\u001b[0m \u001b[1;31m# lets print the classification reports also\u001b[0m\u001b[1;33m\u001b[0m\u001b[1;33m\u001b[0m\u001b[0m\n\u001b[1;32m----> 2\u001b[1;33m \u001b[0mcr\u001b[0m \u001b[1;33m=\u001b[0m \u001b[0mclassification_report\u001b[0m\u001b[1;33m(\u001b[0m\u001b[0my_test\u001b[0m\u001b[1;33m,\u001b[0m \u001b[0my_pred\u001b[0m\u001b[1;33m)\u001b[0m\u001b[1;33m\u001b[0m\u001b[1;33m\u001b[0m\u001b[0m\n\u001b[0m\u001b[0;32m      3\u001b[0m \u001b[0mprint\u001b[0m\u001b[1;33m(\u001b[0m\u001b[0mcr\u001b[0m\u001b[1;33m)\u001b[0m\u001b[1;33m\u001b[0m\u001b[1;33m\u001b[0m\u001b[0m\n",
      "\u001b[1;31mNameError\u001b[0m: name 'classification_report' is not defined"
     ]
    }
   ],
   "source": [
    "# lets print the classification reports also\n",
    "cr = classification_report(y_test, y_pred)\n",
    "print(cr)\n"
   ]
  },
  {
   "cell_type": "code",
   "execution_count": 76,
   "id": "c1bab8a9",
   "metadata": {},
   "outputs": [
    {
     "data": {
      "text/html": [
       "<div>\n",
       "<style scoped>\n",
       "    .dataframe tbody tr th:only-of-type {\n",
       "        vertical-align: middle;\n",
       "    }\n",
       "\n",
       "    .dataframe tbody tr th {\n",
       "        vertical-align: top;\n",
       "    }\n",
       "\n",
       "    .dataframe thead th {\n",
       "        text-align: right;\n",
       "    }\n",
       "</style>\n",
       "<table border=\"1\" class=\"dataframe\">\n",
       "  <thead>\n",
       "    <tr style=\"text-align: right;\">\n",
       "      <th></th>\n",
       "      <th>N</th>\n",
       "      <th>P</th>\n",
       "      <th>K</th>\n",
       "      <th>temperature</th>\n",
       "      <th>humidity</th>\n",
       "      <th>ph</th>\n",
       "      <th>rainfall</th>\n",
       "      <th>label</th>\n",
       "    </tr>\n",
       "  </thead>\n",
       "  <tbody>\n",
       "    <tr>\n",
       "      <th>0</th>\n",
       "      <td>90</td>\n",
       "      <td>42</td>\n",
       "      <td>43</td>\n",
       "      <td>20.879744</td>\n",
       "      <td>82.002744</td>\n",
       "      <td>6.502985</td>\n",
       "      <td>202.935536</td>\n",
       "      <td>rice</td>\n",
       "    </tr>\n",
       "    <tr>\n",
       "      <th>1</th>\n",
       "      <td>85</td>\n",
       "      <td>58</td>\n",
       "      <td>41</td>\n",
       "      <td>21.770462</td>\n",
       "      <td>80.319644</td>\n",
       "      <td>7.038096</td>\n",
       "      <td>226.655537</td>\n",
       "      <td>rice</td>\n",
       "    </tr>\n",
       "    <tr>\n",
       "      <th>2</th>\n",
       "      <td>60</td>\n",
       "      <td>55</td>\n",
       "      <td>44</td>\n",
       "      <td>23.004459</td>\n",
       "      <td>82.320763</td>\n",
       "      <td>7.840207</td>\n",
       "      <td>263.964248</td>\n",
       "      <td>rice</td>\n",
       "    </tr>\n",
       "    <tr>\n",
       "      <th>3</th>\n",
       "      <td>74</td>\n",
       "      <td>35</td>\n",
       "      <td>40</td>\n",
       "      <td>26.491096</td>\n",
       "      <td>80.158363</td>\n",
       "      <td>6.980401</td>\n",
       "      <td>242.864034</td>\n",
       "      <td>rice</td>\n",
       "    </tr>\n",
       "    <tr>\n",
       "      <th>4</th>\n",
       "      <td>78</td>\n",
       "      <td>42</td>\n",
       "      <td>42</td>\n",
       "      <td>20.130175</td>\n",
       "      <td>81.604873</td>\n",
       "      <td>7.628473</td>\n",
       "      <td>262.717340</td>\n",
       "      <td>rice</td>\n",
       "    </tr>\n",
       "  </tbody>\n",
       "</table>\n",
       "</div>"
      ],
      "text/plain": [
       "    N   P   K  temperature   humidity        ph    rainfall label\n",
       "0  90  42  43    20.879744  82.002744  6.502985  202.935536  rice\n",
       "1  85  58  41    21.770462  80.319644  7.038096  226.655537  rice\n",
       "2  60  55  44    23.004459  82.320763  7.840207  263.964248  rice\n",
       "3  74  35  40    26.491096  80.158363  6.980401  242.864034  rice\n",
       "4  78  42  42    20.130175  81.604873  7.628473  262.717340  rice"
      ]
     },
     "execution_count": 76,
     "metadata": {},
     "output_type": "execute_result"
    }
   ],
   "source": [
    "#lets check the head of the dataset\n",
    "data.head()"
   ]
  },
  {
   "cell_type": "code",
   "execution_count": 77,
   "id": "ba3fd76f",
   "metadata": {},
   "outputs": [
    {
     "name": "stdout",
     "output_type": "stream",
     "text": [
      "the suggested crop for given climatic conditions is : ['rice']\n"
     ]
    },
    {
     "name": "stderr",
     "output_type": "stream",
     "text": [
      "C:\\ProgramData\\Anaconda3\\lib\\site-packages\\sklearn\\base.py:450: UserWarning: X does not have valid feature names, but LogisticRegression was fitted with feature names\n",
      "  warnings.warn(\n"
     ]
    }
   ],
   "source": [
    "prediction = model.predict((np.array([[90, 40, 40, 20, 80, 7, 200]])))\n",
    "print(\"the suggested crop for given climatic conditions is :\", prediction)"
   ]
  },
  {
   "cell_type": "markdown",
   "id": "b3949f59",
   "metadata": {},
   "source": [
    "At last our model give us correct Result.\n",
    "It's working properly.\n"
   ]
  },
  {
   "cell_type": "markdown",
   "id": "d8eb5ea0",
   "metadata": {},
   "source": [
    "Thankyou"
   ]
  },
  {
   "cell_type": "code",
   "execution_count": null,
   "id": "661bcfe7",
   "metadata": {},
   "outputs": [],
   "source": []
  }
 ],
 "metadata": {
  "kernelspec": {
   "display_name": "Python 3 (ipykernel)",
   "language": "python",
   "name": "python3"
  },
  "language_info": {
   "codemirror_mode": {
    "name": "ipython",
    "version": 3
   },
   "file_extension": ".py",
   "mimetype": "text/x-python",
   "name": "python",
   "nbconvert_exporter": "python",
   "pygments_lexer": "ipython3",
   "version": "3.9.13"
  }
 },
 "nbformat": 4,
 "nbformat_minor": 5
}
